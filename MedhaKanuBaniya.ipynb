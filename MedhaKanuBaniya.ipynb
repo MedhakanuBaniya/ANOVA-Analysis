{
 "cells": [
  {
   "cell_type": "markdown",
   "id": "b3e154b5",
   "metadata": {},
   "source": [
    "# ABSTRACT\n",
    "\n",
    "The aim of this project is to examine the grades of students across different levels, including Less than HS, HS, Jr Coll, Bachelor's, and Graduate. We intend to use ANOVA analysis, a statistical tool that identifies significant differences in variance between independent groups of data. By comparing the means of these five classes, we hope to better understand how grades vary across different educational levels.\n",
    "To accomplish this, we started with a null hypothesis stating that the differences in means were not significant, and an alternative hypothesis stating that they were. We used one-way ANOVA due to the number of independent variables at hand, which allowed us to explore the relationship between the independent and dependent variables.\n",
    "To calculate the F ratio, we conducted F tests using ANOVA. If the F ratio is close to 1, this indicates that the numerator and denominator are similar, meaning that there is no true variance in the data. On the other hand, if the value of F ratio is less than 1, this indicates significant variance. Based on the F test results, we can either accept or reject the null hypothesis and proceed accordingly with the data. By analyzing the results of the ANOVA, we can gain valuable insights into how grades differ across different levels."
   ]
  },
  {
   "cell_type": "markdown",
   "id": "071ac7cf",
   "metadata": {},
   "source": [
    "# THEORY\n",
    "\n",
    "Several statistical tests were at our disposal to conduct hypothesis testing. The aim of these tests is to ascertain if there   exists a significant association between the feature variable and the target variable or, in this instance, to recognize and     measure the variance between group means.\n",
    "  \n",
    "TEST STATISTICS: \n",
    "\n",
    "In hypothesis testing, the null hypothesis is assumed to state that there is no significant relationship between the two sets    of data being analyzed. An alternative hypothesis is constructed to prove the opposite. Statistical tests are then used to calculate a test statistic, which helps to quantify the deviation from the null hypothesis. The p-value is used to estimate the probability of a difference between the two sets of data, assuming that the null hypothesis is true. Depending on the significance level chosen at the outset, we can either reject or fail to reject the null hypothesis, based on the evidence gathered from the statistical test.\n",
    "\n",
    "Before performing a statistical test, certain assumptions must be considered. Firstly, the data, observations, or variables being analyzed must not have any form of autocorrelation. Secondly, each group being analyzed must have similar variances to the other groups, so that the test can be effective. Thirdly, the data should resemble a normal distribution, as this allows for easier analysis.\n",
    "\n",
    "There are various statistical tests available for hypothesis testing, such as the z statistic test, t statistic test, chi-squared test, paired and independent t-tests. However, in datasets with multiple groups, it is unlikely that we are presented with just two variables. In such scenarios, the ANOVA analysis test is used to determine whether there is any dependence between at least two variables in the dataset\n",
    "\n",
    "ANOVA ANALYSIS:\n",
    "\n",
    "\n",
    "Ronald Fisher developed the Analysis of Variance (ANOVA) technique, which is an extension of the z-test and t-test. ANOVA is utilized to evaluate mean differences among independent groups, which are categorized as either random or systematic factors. This helps to identify the effect of independent variables on a dependent variable. ANOVA can be calculated using the F-test equation: F = MST/MSE, where MST is the mean sum of squares due to treatment and MSE is the mean sum of squares due to error. ANOVA explores the factors that impact the dataset and generates supplementary information to create a valid regression, enabling the comparison of multiple groups and the identification of relationships between them. ANOVA also examines the variability within and among groups. Two types of ANOVA exist.\n",
    "1) One - way ANOVA 2) Two - way ANOVA\n",
    "\n",
    "ONE-WAY ANOVA and TWO-WAY ANOVA:\n",
    "\n",
    "A one-way ANOVA, also known as unidirectional form analysis of variance, focuses on a single factor that identifies the level of similarity between the means of two or more independent groups. This analysis is used when information is collected around one categorical independent variable and one dependent quantitative variable, with at least three levels in the independent variable. The ANOVA assumes that the dependent variable changes based on the level of the independent variable. The null hypothesis is that there is no difference among the means of the groups, and the alternative hypothesis is that at least one group differs significantly from the overall mean of the dependent variable. Two-way ANOVA is an extension of one-way analysis, where two independent variables are used instead of one.\n",
    "\n",
    "Initially, ANOVA was used only for experimental data of randomized plans, but later it was also used to analyze analytical and secondary data from descriptive studies. ANOVA can be used to analyze dependencies, where the dependent variable is measured on a ratio or proportion scale or an interval, and the independent factor is a categorical variable with at least two classifications.\n",
    "\n",
    "ANOVA determines if the groups created by the levels of the independent variable are statistically unique by calculating whether the mean of the treatment levels is different from the overall mean of the dependent variable. If any of the group means is significantly different from the overall mean, then the null hypothesis is rejected. ANOVA uses the F-test for statistical significance, which compares multiple means simultaneously by calculating errors for the entire set of comparisons instead of for each individual two-way analysis. The F-test compares the variance within each group's mean to the overall group variance, and if the variance within the groups is smaller than the variance between the groups, the F-test will produce a higher F-value, indicating a higher probability that the observed difference is genuine and not due to chance.\n",
    "\n",
    "\n",
    "\n",
    "\n",
    "\n"
   ]
  },
  {
   "cell_type": "markdown",
   "id": "f1d3f993",
   "metadata": {},
   "source": [
    "# Exploratory Data Analysis"
   ]
  },
  {
   "cell_type": "code",
   "execution_count": 1,
   "id": "d1969adf",
   "metadata": {},
   "outputs": [
    {
     "data": {
      "text/html": [
       "<div>\n",
       "<style scoped>\n",
       "    .dataframe tbody tr th:only-of-type {\n",
       "        vertical-align: middle;\n",
       "    }\n",
       "\n",
       "    .dataframe tbody tr th {\n",
       "        vertical-align: top;\n",
       "    }\n",
       "\n",
       "    .dataframe thead th {\n",
       "        text-align: right;\n",
       "    }\n",
       "</style>\n",
       "<table border=\"1\" class=\"dataframe\">\n",
       "  <thead>\n",
       "    <tr style=\"text-align: right;\">\n",
       "      <th></th>\n",
       "      <th>index</th>\n",
       "      <th>Less than HS</th>\n",
       "      <th>45</th>\n",
       "    </tr>\n",
       "  </thead>\n",
       "  <tbody>\n",
       "    <tr>\n",
       "      <th>0</th>\n",
       "      <td>0</td>\n",
       "      <td>Less than HS</td>\n",
       "      <td>26.0</td>\n",
       "    </tr>\n",
       "    <tr>\n",
       "      <th>1</th>\n",
       "      <td>1</td>\n",
       "      <td>Less than HS</td>\n",
       "      <td>43.8</td>\n",
       "    </tr>\n",
       "    <tr>\n",
       "      <th>2</th>\n",
       "      <td>2</td>\n",
       "      <td>Less than HS</td>\n",
       "      <td>34.4</td>\n",
       "    </tr>\n",
       "    <tr>\n",
       "      <th>3</th>\n",
       "      <td>3</td>\n",
       "      <td>Less than HS</td>\n",
       "      <td>76.2</td>\n",
       "    </tr>\n",
       "    <tr>\n",
       "      <th>4</th>\n",
       "      <td>4</td>\n",
       "      <td>Less than HS</td>\n",
       "      <td>0.2</td>\n",
       "    </tr>\n",
       "    <tr>\n",
       "      <th>...</th>\n",
       "      <td>...</td>\n",
       "      <td>...</td>\n",
       "      <td>...</td>\n",
       "    </tr>\n",
       "    <tr>\n",
       "      <th>1166</th>\n",
       "      <td>1166</td>\n",
       "      <td>Graduate</td>\n",
       "      <td>52.7</td>\n",
       "    </tr>\n",
       "    <tr>\n",
       "      <th>1167</th>\n",
       "      <td>1167</td>\n",
       "      <td>Graduate</td>\n",
       "      <td>59.8</td>\n",
       "    </tr>\n",
       "    <tr>\n",
       "      <th>1168</th>\n",
       "      <td>1168</td>\n",
       "      <td>Graduate</td>\n",
       "      <td>54.1</td>\n",
       "    </tr>\n",
       "    <tr>\n",
       "      <th>1169</th>\n",
       "      <td>1169</td>\n",
       "      <td>Graduate</td>\n",
       "      <td>39.9</td>\n",
       "    </tr>\n",
       "    <tr>\n",
       "      <th>1170</th>\n",
       "      <td>1170</td>\n",
       "      <td>Graduate</td>\n",
       "      <td>58.2</td>\n",
       "    </tr>\n",
       "  </tbody>\n",
       "</table>\n",
       "<p>1171 rows × 3 columns</p>\n",
       "</div>"
      ],
      "text/plain": [
       "      index  Less than HS    45\n",
       "0         0  Less than HS  26.0\n",
       "1         1  Less than HS  43.8\n",
       "2         2  Less than HS  34.4\n",
       "3         3  Less than HS  76.2\n",
       "4         4  Less than HS   0.2\n",
       "...     ...           ...   ...\n",
       "1166   1166      Graduate  52.7\n",
       "1167   1167      Graduate  59.8\n",
       "1168   1168      Graduate  54.1\n",
       "1169   1169      Graduate  39.9\n",
       "1170   1170      Graduate  58.2\n",
       "\n",
       "[1171 rows x 3 columns]"
      ]
     },
     "execution_count": 1,
     "metadata": {},
     "output_type": "execute_result"
    }
   ],
   "source": [
    "import pandas as pd\n",
    "import sqlite3\n",
    "import numpy as np\n",
    "import matplotlib.pyplot as plt\n",
    "import seaborn as sns\n",
    "import warnings \n",
    "warnings.filterwarnings('ignore')\n",
    "\n",
    "connection = sqlite3.connect('DSCI6002_prj1_data_group4.db')\n",
    "df = pd.read_sql_query(\"SELECT * FROM prj1\",connection)\n",
    "df"
   ]
  },
  {
   "cell_type": "markdown",
   "id": "71bb0abf",
   "metadata": {},
   "source": [
    "### 1st row is displayed as column. So, converted coloumn to 1st row and add the column names on the table.\n"
   ]
  },
  {
   "cell_type": "code",
   "execution_count": 2,
   "id": "fd1690f8",
   "metadata": {},
   "outputs": [
    {
     "name": "stdout",
     "output_type": "stream",
     "text": [
      "['Less than HS', '45']\n"
     ]
    },
    {
     "data": {
      "text/html": [
       "<div>\n",
       "<style scoped>\n",
       "    .dataframe tbody tr th:only-of-type {\n",
       "        vertical-align: middle;\n",
       "    }\n",
       "\n",
       "    .dataframe tbody tr th {\n",
       "        vertical-align: top;\n",
       "    }\n",
       "\n",
       "    .dataframe thead th {\n",
       "        text-align: right;\n",
       "    }\n",
       "</style>\n",
       "<table border=\"1\" class=\"dataframe\">\n",
       "  <thead>\n",
       "    <tr style=\"text-align: right;\">\n",
       "      <th></th>\n",
       "      <th>Level</th>\n",
       "      <th>Grades</th>\n",
       "    </tr>\n",
       "  </thead>\n",
       "  <tbody>\n",
       "    <tr>\n",
       "      <th>0</th>\n",
       "      <td>Less than HS</td>\n",
       "      <td>45</td>\n",
       "    </tr>\n",
       "    <tr>\n",
       "      <th>1</th>\n",
       "      <td>Less than HS</td>\n",
       "      <td>26.0</td>\n",
       "    </tr>\n",
       "    <tr>\n",
       "      <th>2</th>\n",
       "      <td>Less than HS</td>\n",
       "      <td>43.8</td>\n",
       "    </tr>\n",
       "    <tr>\n",
       "      <th>3</th>\n",
       "      <td>Less than HS</td>\n",
       "      <td>34.4</td>\n",
       "    </tr>\n",
       "    <tr>\n",
       "      <th>4</th>\n",
       "      <td>Less than HS</td>\n",
       "      <td>76.2</td>\n",
       "    </tr>\n",
       "    <tr>\n",
       "      <th>...</th>\n",
       "      <td>...</td>\n",
       "      <td>...</td>\n",
       "    </tr>\n",
       "    <tr>\n",
       "      <th>1167</th>\n",
       "      <td>Graduate</td>\n",
       "      <td>52.7</td>\n",
       "    </tr>\n",
       "    <tr>\n",
       "      <th>1168</th>\n",
       "      <td>Graduate</td>\n",
       "      <td>59.8</td>\n",
       "    </tr>\n",
       "    <tr>\n",
       "      <th>1169</th>\n",
       "      <td>Graduate</td>\n",
       "      <td>54.1</td>\n",
       "    </tr>\n",
       "    <tr>\n",
       "      <th>1170</th>\n",
       "      <td>Graduate</td>\n",
       "      <td>39.9</td>\n",
       "    </tr>\n",
       "    <tr>\n",
       "      <th>1171</th>\n",
       "      <td>Graduate</td>\n",
       "      <td>58.2</td>\n",
       "    </tr>\n",
       "  </tbody>\n",
       "</table>\n",
       "<p>1172 rows × 2 columns</p>\n",
       "</div>"
      ],
      "text/plain": [
       "             Level Grades\n",
       "0     Less than HS     45\n",
       "1     Less than HS   26.0\n",
       "2     Less than HS   43.8\n",
       "3     Less than HS   34.4\n",
       "4     Less than HS   76.2\n",
       "...            ...    ...\n",
       "1167      Graduate   52.7\n",
       "1168      Graduate   59.8\n",
       "1169      Graduate   54.1\n",
       "1170      Graduate   39.9\n",
       "1171      Graduate   58.2\n",
       "\n",
       "[1172 rows x 2 columns]"
      ]
     },
     "execution_count": 2,
     "metadata": {},
     "output_type": "execute_result"
    }
   ],
   "source": [
    "df = pd.DataFrame(df, columns = ['Less than HS', '45'])\n",
    "print(df.columns.values.tolist())\n",
    "df1 = pd.DataFrame(np.insert(df.values,0,values=df.columns.values.tolist(),axis=0),columns=['Level','Grades'])\n",
    "df1"
   ]
  },
  {
   "cell_type": "code",
   "execution_count": 3,
   "id": "d2b73987",
   "metadata": {},
   "outputs": [
    {
     "name": "stdout",
     "output_type": "stream",
     "text": [
      "Level     object\n",
      "Grades    object\n",
      "dtype: object\n"
     ]
    }
   ],
   "source": [
    "print(df1.dtypes)"
   ]
  },
  {
   "cell_type": "markdown",
   "id": "46a52303",
   "metadata": {},
   "source": [
    "### Convert object datatype to float for Grades columns"
   ]
  },
  {
   "cell_type": "code",
   "execution_count": 4,
   "id": "bf4a06de",
   "metadata": {},
   "outputs": [
    {
     "name": "stdout",
     "output_type": "stream",
     "text": [
      "Level      object\n",
      "Grades    float64\n",
      "dtype: object\n"
     ]
    }
   ],
   "source": [
    "df1['Grades'] = df1['Grades'].astype(float)\n",
    "print(df1.dtypes)"
   ]
  },
  {
   "cell_type": "code",
   "execution_count": 5,
   "id": "fc4536ba",
   "metadata": {},
   "outputs": [
    {
     "name": "stdout",
     "output_type": "stream",
     "text": [
      "The overlook into the data is as follows\n",
      "           Level  Grades\n",
      "0  Less than HS    45.0\n",
      "1  Less than HS    26.0\n",
      "2  Less than HS    43.8\n",
      "3  Less than HS    34.4\n",
      "4  Less than HS    76.2\n",
      "\n",
      "Shape of the data is (1172, 2)\n"
     ]
    }
   ],
   "source": [
    "print(\"The overlook into the data is as follows\\n\",df1.head())\n",
    "print(\"\\nShape of the data is\",df1.shape)"
   ]
  },
  {
   "cell_type": "code",
   "execution_count": 6,
   "id": "b8d2018d",
   "metadata": {},
   "outputs": [
    {
     "name": "stdout",
     "output_type": "stream",
     "text": [
      "\n",
      "Total Number of Records grouping by their level of education\n",
      "               Grades\n",
      "Level               \n",
      "Bachelor's       252\n",
      "Graduate         153\n",
      "HS               541\n",
      "Jr Coll           96\n",
      "Less than HS     119\n",
      "\n",
      "Data summary is \n",
      "count    1161.000000\n",
      "mean       40.730405\n",
      "std        15.160262\n",
      "min         0.200000\n",
      "25%        30.300000\n",
      "50%        41.000000\n",
      "75%        51.300000\n",
      "max        86.400000\n",
      "Name: Grades, dtype: float64\n"
     ]
    }
   ],
   "source": [
    "print(\"\\nTotal Number of Records grouping by their level of education\\n\",df1.groupby(\"Level\").count())\n",
    "print(\"\\nData summary is \",df1['Grades'].describe(), sep = '\\n')"
   ]
  },
  {
   "cell_type": "code",
   "execution_count": 7,
   "id": "dca179f2",
   "metadata": {},
   "outputs": [],
   "source": [
    "class_A = df1.loc[(df1[\"Level\"] == \"Less than HS\")]\n",
    "class_B = df1.loc[(df1[\"Level\"] == \"Jr Coll\")]\n",
    "class_C = df1.loc[(df1[\"Level\"] == \"HS\")]\n",
    "class_D = df1.loc[(df1[\"Level\"] == \"Graduate\")]\n",
    "class_E = df1.loc[(df1[\"Level\"] == \"Bachelor's\")]"
   ]
  },
  {
   "cell_type": "code",
   "execution_count": 8,
   "id": "fad99022",
   "metadata": {},
   "outputs": [
    {
     "name": "stdout",
     "output_type": "stream",
     "text": [
      "Data Summary of Less Than HS class is\n",
      "            Grades\n",
      "count  119.000000\n",
      "mean    36.600000\n",
      "std     15.621297\n",
      "min      0.200000\n",
      "25%     27.700000\n",
      "50%     36.500000\n",
      "75%     45.200000\n",
      "max     86.100000\n",
      "\n",
      "Data Summary of Jr Coll class is\n",
      "           Grades\n",
      "count  96.000000\n",
      "mean   41.004167\n",
      "std    18.925799\n",
      "min     4.700000\n",
      "25%    26.525000\n",
      "50%    42.450000\n",
      "75%    57.025000\n",
      "max    86.400000\n",
      "\n",
      "Data Summary of HS class is\n",
      "            Grades\n",
      "count  541.000000\n",
      "mean    40.123105\n",
      "std     14.886300\n",
      "min      3.100000\n",
      "25%     29.600000\n",
      "50%     40.400000\n",
      "75%     51.000000\n",
      "max     86.300000\n",
      "\n",
      "Data Summary of Graduate Class is\n",
      "            Grades\n",
      "count  153.000000\n",
      "mean    43.612418\n",
      "std     15.066123\n",
      "min      1.800000\n",
      "25%     32.600000\n",
      "50%     44.800000\n",
      "75%     54.200000\n",
      "max     81.000000\n",
      "\n",
      "Data Summary of Bachelor Class is\n",
      "            Grades\n",
      "count  252.000000\n",
      "mean    42.130556\n",
      "std     13.480890\n",
      "min      0.500000\n",
      "25%     33.350000\n",
      "50%     43.050000\n",
      "75%     51.200000\n",
      "max     83.900000\n"
     ]
    }
   ],
   "source": [
    "print(\"Data Summary of Less Than HS class is\\n\", class_A.describe())\n",
    "print(\"\\nData Summary of Jr Coll class is\\n\",class_B.describe())\n",
    "print(\"\\nData Summary of HS class is\\n\",class_C.describe())\n",
    "print(\"\\nData Summary of Graduate Class is\\n\",class_D.describe())\n",
    "print(\"\\nData Summary of Bachelor Class is\\n\",class_E.describe())"
   ]
  },
  {
   "cell_type": "markdown",
   "id": "a0c27147",
   "metadata": {},
   "source": [
    "Box and whisker plots provide a useful way to display the key characteristics of a dataset, including its range, quartiles, and median. By using a standardized interval scale, these plots allow us to quickly summarize and visualize the key features of a dataset, giving us valuable insights into its variability and distribution. Essentially, box and whisker plots help us to understand the overall shape and characteristics of a dataset in a clear and concise way, making them a valuable tool for anyone working with data analysis or statistics."
   ]
  },
  {
   "cell_type": "code",
   "execution_count": 9,
   "id": "d06cd088",
   "metadata": {
    "scrolled": true
   },
   "outputs": [
    {
     "data": {
      "image/png": "[encoded data removed]",
      "text/plain": [
       "<Figure size 2000x1000 with 5 Axes>"
      ]
     },
     "metadata": {},
     "output_type": "display_data"
    }
   ],
   "source": [
    "import matplotlib.pyplot as plt\n",
    "plt.figure(figsize = (20,10))\n",
    "plt.subplot(1,5,1)\n",
    "plt.boxplot(class_A[class_A['Grades'].notnull()]['Grades'])\n",
    "plt.title(\"Less than HS\")\n",
    "plt.subplot(1,5,2)\n",
    "plt.boxplot(class_B[class_B['Grades'].notnull()]['Grades'])\n",
    "plt.title(\"Jr Coll\")\n",
    "plt.subplot(1,5,3)\n",
    "plt.boxplot(class_C[class_C['Grades'].notnull()]['Grades'])\n",
    "plt.title(\"HS\")\n",
    "plt.subplot(1,5,4)\n",
    "plt.boxplot(class_D[class_D['Grades'].notnull()]['Grades'])\n",
    "plt.title(\"Graduate\")\n",
    "plt.subplot(1,5,5)\n",
    "plt.boxplot(class_E[class_E['Grades'].notnull()]['Grades'])\n",
    "plt.title(\"Bachelor's\")\n",
    "plt.show()\n"
   ]
  },
  {
   "cell_type": "code",
   "execution_count": 10,
   "id": "9aeaa024",
   "metadata": {},
   "outputs": [
    {
     "name": "stdout",
     "output_type": "stream",
     "text": [
      "Level     0\n",
      "Grades    2\n",
      "dtype: int64\n",
      "Level     0\n",
      "Grades    1\n",
      "dtype: int64\n",
      "Level     0\n",
      "Grades    5\n",
      "dtype: int64\n",
      "Level     0\n",
      "Grades    2\n",
      "dtype: int64\n",
      "Level     0\n",
      "Grades    1\n",
      "dtype: int64\n"
     ]
    }
   ],
   "source": [
    "print(class_A.isnull().sum())\n",
    "print(class_B.isnull().sum())\n",
    "print(class_C.isnull().sum())\n",
    "print(class_D.isnull().sum())\n",
    "print(class_E.isnull().sum())"
   ]
  },
  {
   "cell_type": "markdown",
   "id": "11139d43",
   "metadata": {},
   "source": [
    "### All the classes seems to be normally distributed hence replace missing grades with the mean value from each class"
   ]
  },
  {
   "cell_type": "code",
   "execution_count": 11,
   "id": "af9c5354",
   "metadata": {},
   "outputs": [
    {
     "data": {
      "text/plain": [
       "0"
      ]
     },
     "execution_count": 11,
     "metadata": {},
     "output_type": "execute_result"
    }
   ],
   "source": [
    "class_A['Grades'].fillna(float(class_A['Grades'].mean()), inplace=True)\n",
    "class_B['Grades'].fillna(float(class_B['Grades'].mean()), inplace=True)\n",
    "class_C['Grades'].fillna(float(class_C['Grades'].mean()), inplace=True)\n",
    "class_D['Grades'].fillna(float(class_D['Grades'].mean()), inplace=True)\n",
    "class_E['Grades'].fillna(float(class_E['Grades'].mean()), inplace=True)\n",
    "class_A['Grades'].isnull().sum()"
   ]
  },
  {
   "cell_type": "code",
   "execution_count": 12,
   "id": "5946c3ac",
   "metadata": {},
   "outputs": [
    {
     "name": "stdout",
     "output_type": "stream",
     "text": [
      "Data Summary of Less Than HS class is\n",
      "            Grades\n",
      "count  121.000000\n",
      "mean    36.600000\n",
      "std     15.490572\n",
      "min      0.200000\n",
      "25%     27.900000\n",
      "50%     36.600000\n",
      "75%     45.000000\n",
      "max     86.100000\n",
      "\n",
      "Data Summary of Jr Coll class is\n",
      "           Grades\n",
      "count  97.000000\n",
      "mean   41.004167\n",
      "std    18.826969\n",
      "min     4.700000\n",
      "25%    26.800000\n",
      "50%    42.000000\n",
      "75%    57.000000\n",
      "max    86.400000\n",
      "\n",
      "Data Summary of HS class is\n",
      "            Grades\n",
      "count  546.000000\n",
      "mean    40.123105\n",
      "std     14.817857\n",
      "min      3.100000\n",
      "25%     29.825000\n",
      "50%     40.123105\n",
      "75%     50.900000\n",
      "max     86.300000\n",
      "\n",
      "Data Summary of Graduate Class is\n",
      "            Grades\n",
      "count  155.000000\n",
      "mean    43.612418\n",
      "std     14.967972\n",
      "min      1.800000\n",
      "25%     32.750000\n",
      "50%     44.800000\n",
      "75%     54.200000\n",
      "max     81.000000\n",
      "\n",
      "Data Summary of Bachelor Class is\n",
      "            Grades\n",
      "count  253.000000\n",
      "mean    42.130556\n",
      "std     13.454116\n",
      "min      0.500000\n",
      "25%     33.400000\n",
      "50%     43.000000\n",
      "75%     51.100000\n",
      "max     83.900000\n"
     ]
    }
   ],
   "source": [
    "print(\"Data Summary of Less Than HS class is\\n\", class_A.describe())\n",
    "print(\"\\nData Summary of Jr Coll class is\\n\",class_B.describe())\n",
    "print(\"\\nData Summary of HS class is\\n\",class_C.describe())\n",
    "print(\"\\nData Summary of Graduate Class is\\n\",class_D.describe())\n",
    "print(\"\\nData Summary of Bachelor Class is\\n\",class_E.describe())"
   ]
  },
  {
   "cell_type": "markdown",
   "id": "a3a9744b",
   "metadata": {},
   "source": [
    "# Analysis results & Explanation \n",
    "\n",
    "From the above results and plots we can interpret the following\n",
    "1. The dataset contains information about 1172 students from different levels, with the highest number of          students in      the HS group and the lowest number in the Jr coll group.\n",
    "2. The box plots show that the groups \"Less than HS\", \"HS\", and \"Bachelor's\" have several outliers that are located far away        from the rest of the data points. These outliers could have a significant impact on the mean and standard deviation of the      respective groups.\n",
    "3. The box plots also suggest that the data points in all the groups are dispersed in a similar way, except for the \"Less than      HS\" group, which has a relatively higher dispersion.\n",
    "4. The median scores for all groups are relatively close, with the \"HS\" group having the highest median and the \"Less than HS\"      group having the lowest median.\n",
    "5. The overall range of scores is from around 20 to 100, with the \"Less than HS\" group having the lowest maximum score and the     \"Bachelor's\" group having the highest maximum score."
   ]
  },
  {
   "cell_type": "code",
   "execution_count": 13,
   "id": "2894da7e",
   "metadata": {},
   "outputs": [],
   "source": [
    "df1.loc[(df1[\"Level\"] == \"Less than HS\")]['Grades'].fillna(float(class_A['Grades'].mean()), inplace=True)\n",
    "df1.loc[(df1[\"Level\"] == \"Less than HS\")]['Grades'].isnull().sum()\n",
    "#class_A['Grades'].fillna(float(class_A['Grades'].mean()), inplace=True)\n",
    "df1.loc[(df1[\"Level\"] == \"Less than HS\")]['Grades']\n",
    "\n",
    "frames = [class_A, class_B, class_C, class_D, class_E]\n",
    "df2 = pd.concat(frames)\n",
    "data = df2"
   ]
  },
  {
   "cell_type": "code",
   "execution_count": 14,
   "id": "fb3dad61",
   "metadata": {},
   "outputs": [],
   "source": [
    "# Calculating the Mean of the groups & mean of the entire data set which we use for calculating the Sum of squares \n",
    "\n",
    "mean_class_A = np.mean(class_A['Grades'])\n",
    "mean_class_B = np.mean(class_B['Grades'])\n",
    "mean_class_C = np.mean(class_C['Grades'])\n",
    "mean_class_D = np.mean(class_D['Grades'])\n",
    "mean_class_E = np.mean(class_E['Grades'])\n",
    "\n",
    "var_A = np.var(class_A['Grades'])\n",
    "var_B = np.var(class_B['Grades'])\n",
    "var_C = np.var(class_C['Grades'])\n",
    "var_D = np.var(class_D['Grades'])\n",
    "var_E = np.var(class_E['Grades'])\n",
    "\n",
    "Total_Mean = np.mean(data['Grades'])"
   ]
  },
  {
   "cell_type": "code",
   "execution_count": 15,
   "id": "3ba013ae",
   "metadata": {},
   "outputs": [
    {
     "name": "stdout",
     "output_type": "stream",
     "text": [
      "Sum of Squares of Groups is 4056.3352793361405\n",
      "Sum of Squares of Total is 266661.49592311546\n",
      "Sum of Squares of Error is 262605.1606437793\n"
     ]
    }
   ],
   "source": [
    "# Variablility between groups i.e. Sum of Squares of Groups & Sum of Squares with in groups & Sum of Squares of Totals\n",
    "\n",
    "SSG = 121 * (Total_Mean - mean_class_A)**2 + 97 * (Total_Mean - mean_class_B)**2 + 546 * (Total_Mean - mean_class_C)**2 + 155 * (Total_Mean - mean_class_D)**2 + 253 * (Total_Mean - mean_class_E)**2\n",
    "print(\"Sum of Squares of Groups is\", SSG)\n",
    "Sum_Grades = data['Grades']\n",
    "SST = sum((Sum_Grades - Total_Mean)**2)\n",
    "print(\"Sum of Squares of Total is\", SST)\n",
    "SSE = SST - SSG\n",
    "print(\"Sum of Squares of Error is\", SSE)"
   ]
  },
  {
   "cell_type": "code",
   "execution_count": 16,
   "id": "98110596",
   "metadata": {},
   "outputs": [
    {
     "name": "stdout",
     "output_type": "stream",
     "text": [
      "Mean of Sum of Squares of Groups is 4056.3352793361405\n",
      "Mean of Sum of Squares of Error is 262605.1606437793\n",
      "The Calculated F Test Statistic is 4.510383187681695\n"
     ]
    }
   ],
   "source": [
    "#Calculating the Mean of Sum of Squares with in groups & Sum of Squares of Groups\n",
    "#Degree of Freedom of Groups = Total Number of Groups - 1\n",
    "#Degree of Freedom with in Groups = Total Number of records - Degree of Freedom of groups\n",
    "\n",
    "DF_G = 4\n",
    "DF_E = 1168\n",
    "MSG = SSG/DF_G\n",
    "print(\"Mean of Sum of Squares of Groups is\", SSG)\n",
    "MSE = SSE/DF_E\n",
    "print(\"Mean of Sum of Squares of Error is\", SSE)\n",
    "F_Statistics = MSG/MSE\n",
    "print(\"The Calculated F Test Statistic is\", F_Statistics)"
   ]
  },
  {
   "cell_type": "code",
   "execution_count": 35,
   "id": "ecbc072e",
   "metadata": {},
   "outputs": [
    {
     "name": "stdout",
     "output_type": "stream",
     "text": [
      "The Total number of Group Comparisons are 10\n",
      "The stringent signficance level used for Group comparison is 0.005\n"
     ]
    }
   ],
   "source": [
    "#Pairwise comparison\n",
    "#Since we have 5 groups, we will end up with 10 comparisions\n",
    "k = 5\n",
    "k = int((k*(k-1))/2)\n",
    "print(\"The Total number of Group Comparisons are\", k)\n",
    "\n",
    "#Significane level for Bonferroni Correction\n",
    "Alpha = 0.05/k\n",
    "print(\"The stringent signficance level used for Group comparison is\",Alpha)"
   ]
  },
  {
   "cell_type": "code",
   "execution_count": 18,
   "id": "aa750cc9",
   "metadata": {},
   "outputs": [
    {
     "name": "stdout",
     "output_type": "stream",
     "text": [
      "The Z Score between 'Less than HS' & 'Jr Coll' -1.863892338271134 is & p-value is 0.031168412446829215\n",
      "The Z score between 'Less than HS' & 'HS' is -2.289402641352292 is & p-value is 0.011027984408969408\n",
      "The Z score between 'Less than HS' & 'Graduate' -3.8014369833082697 is & p-value is 7.192966453759692e-05\n",
      "The Z score between 'Less than HS' & 'Bachelor' -3.3787200457804816 is & p-value is 0.00036412063038768737\n",
      "The Z score between 'Jr Coll' & 'HS' is 0.43954796990127626 & p-value is 0.3301322658017469\n",
      "The Z score between 'Jr Coll' & 'Graduate' is -1.1603585108728531 & p-value is 0.12295143567042183\n",
      "The Z score between 'Jr Coll' & 'Bachelor' is -0.5413616917053243 & p-value is 0.29412915313402566\n",
      "The Z Score between 'HS' & 'Graduate' is -2.5741053148204243 & p-value is 0.005024983853484147\n",
      "The Z Score between 'HS' & 'Bachelor' is -1.9019262375957142 & p-value is 0.028590399250083734\n",
      "The Z Score between 'Graduate' & 'Bachelor' is 1.010919550186813  & p-value is 0.15602746805565432\n"
     ]
    }
   ],
   "source": [
    "import scipy.stats\n",
    "\n",
    "#Group 1 Comparision between Less than HS,Jr Coll\n",
    "Z_Group1 = (mean_class_A - mean_class_B)/(np.sqrt(np.sum([np.var(class_A)/len(class_A),np.var(class_B)/len(class_B)])))\n",
    "print(\"The Z Score between 'Less than HS' & 'Jr Coll' {} is & p-value is {}\".format(Z_Group1,scipy.stats.norm.sf(abs(Z_Group1))))\n",
    "\n",
    "#Group 2 Comparision between Less than HS,HS\n",
    "Z_Group2 = (mean_class_A - mean_class_C)/(np.sqrt(np.sum([np.var(class_A)/len(class_A),np.var(class_C)/len(class_C)])))\n",
    "print(\"The Z score between 'Less than HS' & 'HS' is {} is & p-value is {}\".format(Z_Group2,scipy.stats.norm.sf(abs(Z_Group2))))\n",
    "\n",
    "\n",
    "#Group 3 Comparision between Less than HS,Graduate\n",
    "Z_Group3 = (mean_class_A - mean_class_D)/(np.sqrt(np.sum([np.var(class_A)/len(class_A),np.var(class_D)/len(class_D)])))\n",
    "print(\"The Z score between 'Less than HS' & 'Graduate' {} is & p-value is {}\".format(Z_Group3,scipy.stats.norm.sf(abs(Z_Group3))))\n",
    "\n",
    "\n",
    "#Group 4 Comparision between Less than HS,Bachelor's\n",
    "Z_Group4 = (mean_class_A - mean_class_E)/(np.sqrt(np.sum([np.var(class_A)/len(class_A),np.var(class_E)/len(class_E)])))\n",
    "print(\"The Z score between 'Less than HS' & 'Bachelor' {} is & p-value is {}\".format(Z_Group4,scipy.stats.norm.sf(abs(Z_Group4))))\n",
    "\n",
    "\n",
    "#Group 5 Comparision between Jr Coll,HS\n",
    "Z_Group5 = (mean_class_B - mean_class_C)/(np.sqrt(np.sum([np.var(class_B)/len(class_B),np.var(class_C)/len(class_C)])))\n",
    "print(\"The Z score between 'Jr Coll' & 'HS' is {} & p-value is {}\".format(Z_Group5,scipy.stats.norm.sf(abs(Z_Group5))))\n",
    "\n",
    "\n",
    "#Group 6 Comparision between Jr Coll,Graduate\n",
    "Z_Group6 = (mean_class_B - mean_class_D)/(np.sqrt(np.sum([np.var(class_B)/len(class_B),np.var(class_D)/len(class_D)])))\n",
    "print(\"The Z score between 'Jr Coll' & 'Graduate' is {} & p-value is {}\".format(Z_Group6,scipy.stats.norm.sf(abs(Z_Group6))))\n",
    "\n",
    "\n",
    "#Group 7 Comparision between Jr Coll,Bachelor's\n",
    "Z_Group7 = (mean_class_B - mean_class_E)/(np.sqrt(np.sum([np.var(class_B)/len(class_B),np.var(class_E)/len(class_E)])))\n",
    "print(\"The Z score between 'Jr Coll' & 'Bachelor' is {} & p-value is {}\".format(Z_Group7,scipy.stats.norm.sf(abs(Z_Group7))))\n",
    "\n",
    "\n",
    "#Group 8 Comparision between HS,Graduate\n",
    "Z_Group8 = (mean_class_C - mean_class_D)/(np.sqrt(np.sum([np.var(class_C)/len(class_C),np.var(class_D)/len(class_D)])))\n",
    "print(\"The Z Score between 'HS' & 'Graduate' is {} & p-value is {}\".format(Z_Group8,scipy.stats.norm.sf(abs(Z_Group8))))\n",
    "\n",
    "\n",
    "#Group 9 Comparision between HS,Bachelor's\n",
    "Z_Group9 = (mean_class_C - mean_class_E)/(np.sqrt(np.sum([np.var(class_C)/len(class_C),np.var(class_E)/len(class_E)])))\n",
    "print(\"The Z Score between 'HS' & 'Bachelor' is {} & p-value is {}\".format(Z_Group9,scipy.stats.norm.sf(abs(Z_Group9))))\n",
    "\n",
    "\n",
    "#Group 10 Comparision between Graduate,Bachelor's\n",
    "Z_Group10 = (mean_class_D - mean_class_E)/(np.sqrt(np.sum([np.var(class_D)/len(class_D),np.var(class_E)/len(class_E)])))\n",
    "print(\"The Z Score between 'Graduate' & 'Bachelor' is {}  & p-value is {}\".format(Z_Group10,scipy.stats.norm.sf(abs(Z_Group10))))\n"
   ]
  },
  {
   "cell_type": "code",
   "execution_count": 19,
   "id": "270c971b",
   "metadata": {},
   "outputs": [],
   "source": [
    "from statsmodels.formula.api import ols\n",
    "group = list(df2.iloc[:,0])\n",
    "my_value = list(df2.iloc[:,-1])\n",
    "my_model = ols(formula='my_value ~ group', data=df2)"
   ]
  },
  {
   "cell_type": "code",
   "execution_count": 20,
   "id": "8dcca9ca",
   "metadata": {},
   "outputs": [
    {
     "data": {
      "text/html": [
       "<table class=\"simpletable\">\n",
       "<caption>OLS Regression Results</caption>\n",
       "<tr>\n",
       "  <th>Dep. Variable:</th>        <td>my_value</td>     <th>  R-squared:         </th> <td>   0.015</td>\n",
       "</tr>\n",
       "<tr>\n",
       "  <th>Model:</th>                   <td>OLS</td>       <th>  Adj. R-squared:    </th> <td>   0.012</td>\n",
       "</tr>\n",
       "<tr>\n",
       "  <th>Method:</th>             <td>Least Squares</td>  <th>  F-statistic:       </th> <td>   4.507</td>\n",
       "</tr>\n",
       "<tr>\n",
       "  <th>Date:</th>             <td>Thu, 20 Apr 2023</td> <th>  Prob (F-statistic):</th>  <td>0.00129</td>\n",
       "</tr>\n",
       "<tr>\n",
       "  <th>Time:</th>                 <td>10:54:48</td>     <th>  Log-Likelihood:    </th> <td> -4834.4</td>\n",
       "</tr>\n",
       "<tr>\n",
       "  <th>No. Observations:</th>      <td>  1172</td>      <th>  AIC:               </th> <td>   9679.</td>\n",
       "</tr>\n",
       "<tr>\n",
       "  <th>Df Residuals:</th>          <td>  1167</td>      <th>  BIC:               </th> <td>   9704.</td>\n",
       "</tr>\n",
       "<tr>\n",
       "  <th>Df Model:</th>              <td>     4</td>      <th>                     </th>     <td> </td>   \n",
       "</tr>\n",
       "<tr>\n",
       "  <th>Covariance Type:</th>      <td>nonrobust</td>    <th>                     </th>     <td> </td>   \n",
       "</tr>\n",
       "</table>\n",
       "<table class=\"simpletable\">\n",
       "<tr>\n",
       "            <td></td>               <th>coef</th>     <th>std err</th>      <th>t</th>      <th>P>|t|</th>  <th>[0.025</th>    <th>0.975]</th>  \n",
       "</tr>\n",
       "<tr>\n",
       "  <th>Intercept</th>             <td>   42.1306</td> <td>    0.943</td> <td>   44.673</td> <td> 0.000</td> <td>   40.280</td> <td>   43.981</td>\n",
       "</tr>\n",
       "<tr>\n",
       "  <th>group[T.Graduate]</th>     <td>    1.4819</td> <td>    1.530</td> <td>    0.968</td> <td> 0.333</td> <td>   -1.520</td> <td>    4.484</td>\n",
       "</tr>\n",
       "<tr>\n",
       "  <th>group[T.HS]</th>           <td>   -2.0075</td> <td>    1.141</td> <td>   -1.760</td> <td> 0.079</td> <td>   -4.246</td> <td>    0.231</td>\n",
       "</tr>\n",
       "<tr>\n",
       "  <th>group[T.Jr Coll]</th>      <td>   -1.1264</td> <td>    1.791</td> <td>   -0.629</td> <td> 0.530</td> <td>   -4.641</td> <td>    2.388</td>\n",
       "</tr>\n",
       "<tr>\n",
       "  <th>group[T.Less than HS]</th> <td>   -5.5306</td> <td>    1.658</td> <td>   -3.336</td> <td> 0.001</td> <td>   -8.784</td> <td>   -2.277</td>\n",
       "</tr>\n",
       "</table>\n",
       "<table class=\"simpletable\">\n",
       "<tr>\n",
       "  <th>Omnibus:</th>       <td> 0.353</td> <th>  Durbin-Watson:     </th> <td>   1.971</td>\n",
       "</tr>\n",
       "<tr>\n",
       "  <th>Prob(Omnibus):</th> <td> 0.838</td> <th>  Jarque-Bera (JB):  </th> <td>   0.421</td>\n",
       "</tr>\n",
       "<tr>\n",
       "  <th>Skew:</th>          <td> 0.033</td> <th>  Prob(JB):          </th> <td>   0.810</td>\n",
       "</tr>\n",
       "<tr>\n",
       "  <th>Kurtosis:</th>      <td> 2.935</td> <th>  Cond. No.          </th> <td>    6.26</td>\n",
       "</tr>\n",
       "</table><br/><br/>Notes:<br/>[1] Standard Errors assume that the covariance matrix of the errors is correctly specified."
      ],
      "text/plain": [
       "<class 'statsmodels.iolib.summary.Summary'>\n",
       "\"\"\"\n",
       "                            OLS Regression Results                            \n",
       "==============================================================================\n",
       "Dep. Variable:               my_value   R-squared:                       0.015\n",
       "Model:                            OLS   Adj. R-squared:                  0.012\n",
       "Method:                 Least Squares   F-statistic:                     4.507\n",
       "Date:                Thu, 20 Apr 2023   Prob (F-statistic):            0.00129\n",
       "Time:                        10:54:48   Log-Likelihood:                -4834.4\n",
       "No. Observations:                1172   AIC:                             9679.\n",
       "Df Residuals:                    1167   BIC:                             9704.\n",
       "Df Model:                           4                                         \n",
       "Covariance Type:            nonrobust                                         \n",
       "=========================================================================================\n",
       "                            coef    std err          t      P>|t|      [0.025      0.975]\n",
       "-----------------------------------------------------------------------------------------\n",
       "Intercept                42.1306      0.943     44.673      0.000      40.280      43.981\n",
       "group[T.Graduate]         1.4819      1.530      0.968      0.333      -1.520       4.484\n",
       "group[T.HS]              -2.0075      1.141     -1.760      0.079      -4.246       0.231\n",
       "group[T.Jr Coll]         -1.1264      1.791     -0.629      0.530      -4.641       2.388\n",
       "group[T.Less than HS]    -5.5306      1.658     -3.336      0.001      -8.784      -2.277\n",
       "==============================================================================\n",
       "Omnibus:                        0.353   Durbin-Watson:                   1.971\n",
       "Prob(Omnibus):                  0.838   Jarque-Bera (JB):                0.421\n",
       "Skew:                           0.033   Prob(JB):                        0.810\n",
       "Kurtosis:                       2.935   Cond. No.                         6.26\n",
       "==============================================================================\n",
       "\n",
       "Notes:\n",
       "[1] Standard Errors assume that the covariance matrix of the errors is correctly specified.\n",
       "\"\"\""
      ]
     },
     "execution_count": 20,
     "metadata": {},
     "output_type": "execute_result"
    }
   ],
   "source": [
    "my_model_fit = my_model.fit()\n",
    "my_model_fit.summary()"
   ]
  },
  {
   "cell_type": "code",
   "execution_count": 21,
   "id": "5e082c59",
   "metadata": {},
   "outputs": [
    {
     "name": "stdout",
     "output_type": "stream",
     "text": [
      "                 sum_sq      df         F    PR(>F)\n",
      "group       4056.335279     4.0  4.506522  0.001289\n",
      "Residual  262605.160644  1167.0       NaN       NaN\n"
     ]
    }
   ],
   "source": [
    "import statsmodels.api as sm\n",
    "anova_table = sm.stats.anova_lm(my_model_fit, typ=2)\n",
    "print(anova_table)"
   ]
  },
  {
   "cell_type": "code",
   "execution_count": 22,
   "id": "467b8444",
   "metadata": {},
   "outputs": [
    {
     "name": "stdout",
     "output_type": "stream",
     "text": [
      "                 sum_sq      df         F    PR(>F)     Etasq\n",
      "group       4056.335279     4.0  4.506522  0.001289  0.015447\n",
      "Residual  262605.160644  1167.0       NaN       NaN       NaN\n"
     ]
    }
   ],
   "source": [
    "esq_sm = anova_table['sum_sq'][0] / (anova_table['sum_sq'][1])\n",
    "anova_table['Etasq'] = [esq_sm, 'NaN']\n",
    "print(anova_table)"
   ]
  },
  {
   "cell_type": "code",
   "execution_count": 23,
   "id": "8e1f9c5f",
   "metadata": {},
   "outputs": [
    {
     "name": "stdout",
     "output_type": "stream",
     "text": [
      "      Multiple Comparison of Means - Tukey HSD, FWER=0.05      \n",
      "===============================================================\n",
      "  group1      group2    meandiff p-adj   lower    upper  reject\n",
      "---------------------------------------------------------------\n",
      "Bachelor's     Graduate   1.4819 0.8693  -2.6984  5.6622  False\n",
      "Bachelor's           HS  -2.0075 0.3979  -5.1243  1.1094  False\n",
      "Bachelor's      Jr Coll  -1.1264 0.9704  -6.0207  3.7679  False\n",
      "Bachelor's Less than HS  -5.5306 0.0078 -10.0604 -1.0007   True\n",
      "  Graduate           HS  -3.4893 0.0795  -7.2192  0.2406  False\n",
      "  Graduate      Jr Coll  -2.6083 0.6643  -7.9141  2.6976  False\n",
      "  Graduate Less than HS  -7.0124 0.0012 -11.9841 -2.0408   True\n",
      "        HS      Jr Coll   0.8811 0.9839  -3.6347  5.3968  False\n",
      "        HS Less than HS  -3.5231 0.1339   -7.641  0.5948  False\n",
      "   Jr Coll Less than HS  -4.4042 0.1981  -9.9896  1.1812  False\n",
      "---------------------------------------------------------------\n"
     ]
    },
    {
     "data": {
      "image/png": "[encoded data removed]",
      "text/plain": [
       "<Figure size 1000x600 with 1 Axes>"
      ]
     },
     "metadata": {},
     "output_type": "display_data"
    }
   ],
   "source": [
    "tukey = sm.stats.multicomp.pairwise_tukeyhsd(endog=df2['Grades'],groups=df2['Level'],alpha=0.05)\n",
    "tukey.plot_simultaneous()\n",
    "print(tukey.summary())"
   ]
  },
  {
   "cell_type": "code",
   "execution_count": 24,
   "id": "c513daf2",
   "metadata": {},
   "outputs": [
    {
     "data": {
      "image/png": "[encoded data removed]",
      "text/plain": [
       "<Figure size 640x480 with 1 Axes>"
      ]
     },
     "metadata": {},
     "output_type": "display_data"
    }
   ],
   "source": [
    "res = my_model_fit.resid\n",
    "fig = sm.qqplot(res,line='s')"
   ]
  },
  {
   "cell_type": "code",
   "execution_count": 25,
   "id": "68d3aa09",
   "metadata": {},
   "outputs": [
    {
     "data": {
      "text/plain": [
       "<AxesSubplot:ylabel='Density'>"
      ]
     },
     "execution_count": 25,
     "metadata": {},
     "output_type": "execute_result"
    },
    {
     "data": {
      "image/png": "[encoded data removed]",
      "text/plain": [
       "<Figure size 640x480 with 1 Axes>"
      ]
     },
     "metadata": {},
     "output_type": "display_data"
    }
   ],
   "source": [
    "import seaborn as sns\n",
    "sns.distplot(res,bins='auto',hist='True')"
   ]
  },
  {
   "cell_type": "code",
   "execution_count": 26,
   "id": "21b15064",
   "metadata": {},
   "outputs": [
    {
     "name": "stdout",
     "output_type": "stream",
     "text": [
      "pvalue:  0.37860772013664246\n"
     ]
    }
   ],
   "source": [
    "#Normality assumption check\n",
    "from scipy import stats\n",
    "w,pvalue = stats.shapiro(my_model_fit.resid)\n",
    "print('pvalue: ',pvalue)"
   ]
  },
  {
   "cell_type": "code",
   "execution_count": 27,
   "id": "3dbd36b2",
   "metadata": {},
   "outputs": [
    {
     "data": {
      "text/html": [
       "<table class=\"simpletable\">\n",
       "<caption>OLS Regression Results</caption>\n",
       "<tr>\n",
       "  <th>Dep. Variable:</th>        <td>my_value</td>     <th>  R-squared:         </th> <td>   0.015</td>\n",
       "</tr>\n",
       "<tr>\n",
       "  <th>Model:</th>                   <td>OLS</td>       <th>  Adj. R-squared:    </th> <td>   0.012</td>\n",
       "</tr>\n",
       "<tr>\n",
       "  <th>Method:</th>             <td>Least Squares</td>  <th>  F-statistic:       </th> <td>   4.507</td>\n",
       "</tr>\n",
       "<tr>\n",
       "  <th>Date:</th>             <td>Thu, 20 Apr 2023</td> <th>  Prob (F-statistic):</th>  <td>0.00129</td>\n",
       "</tr>\n",
       "<tr>\n",
       "  <th>Time:</th>                 <td>10:54:54</td>     <th>  Log-Likelihood:    </th> <td> -4834.4</td>\n",
       "</tr>\n",
       "<tr>\n",
       "  <th>No. Observations:</th>      <td>  1172</td>      <th>  AIC:               </th> <td>   9679.</td>\n",
       "</tr>\n",
       "<tr>\n",
       "  <th>Df Residuals:</th>          <td>  1167</td>      <th>  BIC:               </th> <td>   9704.</td>\n",
       "</tr>\n",
       "<tr>\n",
       "  <th>Df Model:</th>              <td>     4</td>      <th>                     </th>     <td> </td>   \n",
       "</tr>\n",
       "<tr>\n",
       "  <th>Covariance Type:</th>      <td>nonrobust</td>    <th>                     </th>     <td> </td>   \n",
       "</tr>\n",
       "</table>\n",
       "<table class=\"simpletable\">\n",
       "<tr>\n",
       "            <td></td>               <th>coef</th>     <th>std err</th>      <th>t</th>      <th>P>|t|</th>  <th>[0.025</th>    <th>0.975]</th>  \n",
       "</tr>\n",
       "<tr>\n",
       "  <th>Intercept</th>             <td>   42.1306</td> <td>    0.943</td> <td>   44.673</td> <td> 0.000</td> <td>   40.280</td> <td>   43.981</td>\n",
       "</tr>\n",
       "<tr>\n",
       "  <th>group[T.Graduate]</th>     <td>    1.4819</td> <td>    1.530</td> <td>    0.968</td> <td> 0.333</td> <td>   -1.520</td> <td>    4.484</td>\n",
       "</tr>\n",
       "<tr>\n",
       "  <th>group[T.HS]</th>           <td>   -2.0075</td> <td>    1.141</td> <td>   -1.760</td> <td> 0.079</td> <td>   -4.246</td> <td>    0.231</td>\n",
       "</tr>\n",
       "<tr>\n",
       "  <th>group[T.Jr Coll]</th>      <td>   -1.1264</td> <td>    1.791</td> <td>   -0.629</td> <td> 0.530</td> <td>   -4.641</td> <td>    2.388</td>\n",
       "</tr>\n",
       "<tr>\n",
       "  <th>group[T.Less than HS]</th> <td>   -5.5306</td> <td>    1.658</td> <td>   -3.336</td> <td> 0.001</td> <td>   -8.784</td> <td>   -2.277</td>\n",
       "</tr>\n",
       "</table>\n",
       "<table class=\"simpletable\">\n",
       "<tr>\n",
       "  <th>Omnibus:</th>       <td> 0.353</td> <th>  Durbin-Watson:     </th> <td>   1.971</td>\n",
       "</tr>\n",
       "<tr>\n",
       "  <th>Prob(Omnibus):</th> <td> 0.838</td> <th>  Jarque-Bera (JB):  </th> <td>   0.421</td>\n",
       "</tr>\n",
       "<tr>\n",
       "  <th>Skew:</th>          <td> 0.033</td> <th>  Prob(JB):          </th> <td>   0.810</td>\n",
       "</tr>\n",
       "<tr>\n",
       "  <th>Kurtosis:</th>      <td> 2.935</td> <th>  Cond. No.          </th> <td>    6.26</td>\n",
       "</tr>\n",
       "</table><br/><br/>Notes:<br/>[1] Standard Errors assume that the covariance matrix of the errors is correctly specified."
      ],
      "text/plain": [
       "<class 'statsmodels.iolib.summary.Summary'>\n",
       "\"\"\"\n",
       "                            OLS Regression Results                            \n",
       "==============================================================================\n",
       "Dep. Variable:               my_value   R-squared:                       0.015\n",
       "Model:                            OLS   Adj. R-squared:                  0.012\n",
       "Method:                 Least Squares   F-statistic:                     4.507\n",
       "Date:                Thu, 20 Apr 2023   Prob (F-statistic):            0.00129\n",
       "Time:                        10:54:54   Log-Likelihood:                -4834.4\n",
       "No. Observations:                1172   AIC:                             9679.\n",
       "Df Residuals:                    1167   BIC:                             9704.\n",
       "Df Model:                           4                                         \n",
       "Covariance Type:            nonrobust                                         \n",
       "=========================================================================================\n",
       "                            coef    std err          t      P>|t|      [0.025      0.975]\n",
       "-----------------------------------------------------------------------------------------\n",
       "Intercept                42.1306      0.943     44.673      0.000      40.280      43.981\n",
       "group[T.Graduate]         1.4819      1.530      0.968      0.333      -1.520       4.484\n",
       "group[T.HS]              -2.0075      1.141     -1.760      0.079      -4.246       0.231\n",
       "group[T.Jr Coll]         -1.1264      1.791     -0.629      0.530      -4.641       2.388\n",
       "group[T.Less than HS]    -5.5306      1.658     -3.336      0.001      -8.784      -2.277\n",
       "==============================================================================\n",
       "Omnibus:                        0.353   Durbin-Watson:                   1.971\n",
       "Prob(Omnibus):                  0.838   Jarque-Bera (JB):                0.421\n",
       "Skew:                           0.033   Prob(JB):                        0.810\n",
       "Kurtosis:                       2.935   Cond. No.                         6.26\n",
       "==============================================================================\n",
       "\n",
       "Notes:\n",
       "[1] Standard Errors assume that the covariance matrix of the errors is correctly specified.\n",
       "\"\"\""
      ]
     },
     "execution_count": 27,
     "metadata": {},
     "output_type": "execute_result"
    }
   ],
   "source": [
    "# Two Way Anova Model\n",
    "\n",
    "import statsmodels.api as sm\n",
    "from statsmodels.formula.api import ols\n",
    "model = ols(formula='my_value ~ group', data=df2).fit()\n",
    "model.summary()"
   ]
  },
  {
   "cell_type": "code",
   "execution_count": 28,
   "id": "2aa45ec1",
   "metadata": {},
   "outputs": [
    {
     "name": "stdout",
     "output_type": "stream",
     "text": [
      "                 sum_sq      df         F    PR(>F)\n",
      "group       4056.335279     4.0  4.506522  0.001289\n",
      "Residual  262605.160644  1167.0       NaN       NaN\n"
     ]
    }
   ],
   "source": [
    "anova_table = sm.stats.anova_lm(model,typ=2)\n",
    "print(anova_table)"
   ]
  },
  {
   "cell_type": "code",
   "execution_count": 29,
   "id": "8836029b",
   "metadata": {},
   "outputs": [
    {
     "name": "stdout",
     "output_type": "stream",
     "text": [
      "0.37860772013664246\n"
     ]
    }
   ],
   "source": [
    "# Two-Way ANOVA: Assumptions checks\n",
    "w,pvalue = stats.shapiro(model.resid)\n",
    "print(pvalue)"
   ]
  },
  {
   "cell_type": "code",
   "execution_count": 36,
   "id": "c2d231ef",
   "metadata": {},
   "outputs": [
    {
     "data": {
      "image/png": "[encoded data removed]",
      "text/plain": [
       "<Figure size 640x480 with 1 Axes>"
      ]
     },
     "metadata": {},
     "output_type": "display_data"
    }
   ],
   "source": [
    "res = model.resid\n",
    "fig = sm.qqplot(res,line='s')"
   ]
  },
  {
   "cell_type": "code",
   "execution_count": 34,
   "id": "b29bb1f0",
   "metadata": {},
   "outputs": [
    {
     "data": {
      "text/plain": [
       "<AxesSubplot:ylabel='Density'>"
      ]
     },
     "execution_count": 34,
     "metadata": {},
     "output_type": "execute_result"
    },
    {
     "data": {
      "image/png": "[encoded data removed]",
      "text/plain": [
       "<Figure size 640x480 with 1 Axes>"
      ]
     },
     "metadata": {},
     "output_type": "display_data"
    }
   ],
   "source": [
    "sns.distplot(res,bins='auto',hist=True)"
   ]
  },
  {
   "cell_type": "markdown",
   "id": "1c2d5abb",
   "metadata": {},
   "source": [
    "## Conclusion\n",
    "\n",
    "Based on the One Way Analysis conducted, we can conclude that there is a significant difference in the grades between certain groups of students. The null hypothesis that there is no significant difference in grades between the groups has been rejected for the following groups:\n",
    "\n",
    "1. The grades of students in 'Jr Coll' are significantly different from those in 'HS' and 'Graduate'  and  'Bachelor'.\n",
    "2. The grades of students in 'Graduate' are significantly different from those in 'Bachelor'.\n",
    "\n",
    "\n",
    "However, for all other groups, the difference in grades was not significant, and we failed to reject the null hypothesis. Therefore, we can conclude that there are some significant differences in the grades of students across different educational groups, but not all group comparisons show a significant difference."
   ]
  },
  {
   "cell_type": "code",
   "execution_count": null,
   "id": "6a90c72d",
   "metadata": {},
   "outputs": [],
   "source": []
  },
  {
   "cell_type": "code",
   "execution_count": null,
   "id": "ede124c8",
   "metadata": {},
   "outputs": [],
   "source": []
  },
  {
   "cell_type": "code",
   "execution_count": null,
   "id": "7526b7d8",
   "metadata": {},
   "outputs": [],
   "source": []
  }
 ],
 "metadata": {
  "kernelspec": {
   "display_name": "Python 3 (ipykernel)",
   "language": "python",
   "name": "python3"
  },
  "language_info": {
   "codemirror_mode": {
    "name": "ipython",
    "version": 3
   },
   "file_extension": ".py",
   "mimetype": "text/x-python",
   "name": "python",
   "nbconvert_exporter": "python",
   "pygments_lexer": "ipython3",
   "version": "3.9.13"
  }
 },
 "nbformat": 4,
 "nbformat_minor": 5
}
